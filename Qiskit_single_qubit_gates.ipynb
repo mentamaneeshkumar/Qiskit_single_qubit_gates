{
  "nbformat": 4,
  "nbformat_minor": 0,
  "metadata": {
    "colab": {
      "provenance": []
    },
    "kernelspec": {
      "name": "python3",
      "display_name": "Python 3"
    },
    "language_info": {
      "name": "python"
    }
  },
  "cells": [
    {
      "cell_type": "code",
      "source": [
        "!pip install qiskit qiskit-aer --upgrade"
      ],
      "metadata": {
        "id": "Mx6284lurNt1",
        "colab": {
          "base_uri": "https://localhost:8080/"
        },
        "outputId": "30c61903-bc6b-4b79-c090-8dfba99b5e37"
      },
      "execution_count": 1,
      "outputs": [
        {
          "output_type": "stream",
          "name": "stdout",
          "text": [
            "Collecting qiskit\n",
            "  Downloading qiskit-2.2.1-cp39-abi3-manylinux2014_x86_64.manylinux_2_17_x86_64.whl.metadata (12 kB)\n",
            "Collecting qiskit-aer\n",
            "  Downloading qiskit_aer-0.17.2-cp312-cp312-manylinux_2_17_x86_64.manylinux2014_x86_64.whl.metadata (8.3 kB)\n",
            "Collecting rustworkx>=0.15.0 (from qiskit)\n",
            "  Downloading rustworkx-0.17.1-cp39-abi3-manylinux_2_17_x86_64.manylinux2014_x86_64.whl.metadata (10 kB)\n",
            "Requirement already satisfied: numpy<3,>=1.17 in /usr/local/lib/python3.12/dist-packages (from qiskit) (2.0.2)\n",
            "Requirement already satisfied: scipy>=1.5 in /usr/local/lib/python3.12/dist-packages (from qiskit) (1.16.2)\n",
            "Requirement already satisfied: dill>=0.3 in /usr/local/lib/python3.12/dist-packages (from qiskit) (0.3.8)\n",
            "Collecting stevedore>=3.0.0 (from qiskit)\n",
            "  Downloading stevedore-5.5.0-py3-none-any.whl.metadata (2.2 kB)\n",
            "Requirement already satisfied: typing-extensions in /usr/local/lib/python3.12/dist-packages (from qiskit) (4.15.0)\n",
            "Requirement already satisfied: psutil>=5 in /usr/local/lib/python3.12/dist-packages (from qiskit-aer) (5.9.5)\n",
            "Requirement already satisfied: python-dateutil>=2.8.0 in /usr/local/lib/python3.12/dist-packages (from qiskit-aer) (2.9.0.post0)\n",
            "Requirement already satisfied: six>=1.5 in /usr/local/lib/python3.12/dist-packages (from python-dateutil>=2.8.0->qiskit-aer) (1.17.0)\n",
            "Downloading qiskit-2.2.1-cp39-abi3-manylinux2014_x86_64.manylinux_2_17_x86_64.whl (8.0 MB)\n",
            "\u001b[2K   \u001b[90m━━━━━━━━━━━━━━━━━━━━━━━━━━━━━━━━━━━━━━━━\u001b[0m \u001b[32m8.0/8.0 MB\u001b[0m \u001b[31m44.4 MB/s\u001b[0m eta \u001b[36m0:00:00\u001b[0m\n",
            "\u001b[?25hDownloading qiskit_aer-0.17.2-cp312-cp312-manylinux_2_17_x86_64.manylinux2014_x86_64.whl (12.4 MB)\n",
            "\u001b[2K   \u001b[90m━━━━━━━━━━━━━━━━━━━━━━━━━━━━━━━━━━━━━━━━\u001b[0m \u001b[32m12.4/12.4 MB\u001b[0m \u001b[31m79.2 MB/s\u001b[0m eta \u001b[36m0:00:00\u001b[0m\n",
            "\u001b[?25hDownloading rustworkx-0.17.1-cp39-abi3-manylinux_2_17_x86_64.manylinux2014_x86_64.whl (2.2 MB)\n",
            "\u001b[2K   \u001b[90m━━━━━━━━━━━━━━━━━━━━━━━━━━━━━━━━━━━━━━━━\u001b[0m \u001b[32m2.2/2.2 MB\u001b[0m \u001b[31m83.4 MB/s\u001b[0m eta \u001b[36m0:00:00\u001b[0m\n",
            "\u001b[?25hDownloading stevedore-5.5.0-py3-none-any.whl (49 kB)\n",
            "\u001b[2K   \u001b[90m━━━━━━━━━━━━━━━━━━━━━━━━━━━━━━━━━━━━━━━━\u001b[0m \u001b[32m49.5/49.5 kB\u001b[0m \u001b[31m3.5 MB/s\u001b[0m eta \u001b[36m0:00:00\u001b[0m\n",
            "\u001b[?25hInstalling collected packages: stevedore, rustworkx, qiskit, qiskit-aer\n",
            "Successfully installed qiskit-2.2.1 qiskit-aer-0.17.2 rustworkx-0.17.1 stevedore-5.5.0\n"
          ]
        }
      ]
    },
    {
      "cell_type": "code",
      "execution_count": 2,
      "metadata": {
        "id": "VPOwLacGrCdU",
        "colab": {
          "base_uri": "https://localhost:8080/"
        },
        "outputId": "c34eed5a-a8e5-4013-98b7-1a325ba4ff17"
      },
      "outputs": [
        {
          "output_type": "stream",
          "name": "stdout",
          "text": [
            "Quantum Circuit:\n",
            "        ┌───┐┌───┐┌───┐┌───┐┌─────────┐ ░ ┌─┐\n",
            "     q: ┤ X ├┤ H ├┤ S ├┤ T ├┤ Rz(0.5) ├─░─┤M├\n",
            "        └───┘└───┘└───┘└───┘└─────────┘ ░ └╥┘\n",
            "   c: 1/═══════════════════════════════════╬═\n",
            "                                           ║ \n",
            "meas: 1/═══════════════════════════════════╩═\n",
            "                                           0 \n",
            "\n",
            "Measurement Counts: {'0 0': 483, '1 0': 541}\n"
          ]
        }
      ],
      "source": [
        "from qiskit import QuantumCircuit, transpile\n",
        "from qiskit_aer import AerSimulator\n",
        "\n",
        "# Initialize simulator\n",
        "sim = AerSimulator()\n",
        "\n",
        "# Create a single-qubit circuit with one classical bit\n",
        "qc = QuantumCircuit(1, 1)\n",
        "\n",
        "# --- Apply sequence of single-qubit gates ---\n",
        "qc.x(0)        # Pauli-X (NOT gate)\n",
        "qc.h(0)        # Hadamard (superposition)\n",
        "qc.s(0)        # Phase gate (π/2)\n",
        "qc.t(0)        # T gate (π/4)\n",
        "qc.rz(0.5, 0)  # Z-axis rotation by 0.5 radians\n",
        "\n",
        "# Measure final state\n",
        "qc.measure_all()\n",
        "\n",
        "# Display circuit\n",
        "print(\"Quantum Circuit:\")\n",
        "print(qc.draw())\n",
        "\n",
        "# --- Run simulation ---\n",
        "compiled = transpile(qc, sim)\n",
        "result = sim.run(compiled, shots=1024).result()\n",
        "\n",
        "# --- Display results ---\n",
        "counts = result.get_counts()\n",
        "print(\"\\nMeasurement Counts:\", counts)\n"
      ]
    },
    {
      "cell_type": "markdown",
      "source": [
        "1. Change Gate Order"
      ],
      "metadata": {
        "id": "tqsezN8kU2P-"
      }
    },
    {
      "cell_type": "code",
      "source": [
        "from qiskit import QuantumCircuit, transpile\n",
        "from qiskit_aer import AerSimulator\n",
        "\n",
        "# Initialize simulator\n",
        "sim = AerSimulator()\n",
        "\n",
        "# Create a single-qubit circuit with one classical bit\n",
        "qc = QuantumCircuit(1, 1)\n",
        "\n",
        "# --- Apply sequence of single-qubit gates (Swapped X and H) ---\n",
        "qc.h(0)        # Hadamard (superposition) - SWAPPED ORDER\n",
        "qc.x(0)        # Pauli-X (NOT gate) - SWAPPED ORDER\n",
        "qc.s(0)        # Phase gate (π/2)\n",
        "qc.t(0)        # T gate (π/4)\n",
        "qc.rz(0.5, 0)  # Z-axis rotation by 0.5 radians\n",
        "\n",
        "# Measure final state\n",
        "qc.measure_all()\n",
        "\n",
        "# Display circuit\n",
        "print(\"Quantum Circuit (H then X):\")\n",
        "print(qc.draw())\n",
        "\n",
        "# --- Run simulation ---\n",
        "compiled = transpile(qc, sim)\n",
        "result = sim.run(compiled, shots=1024).result()\n",
        "\n",
        "# --- Display results ---\n",
        "counts = result.get_counts()\n",
        "print(\"\\nMeasurement Counts (H then X):\", counts)\n",
        "\n",
        "# Example Output of Counts (will vary slightly due to randomness)\n",
        "# Measurement Counts (H then X): {'0': 348, '1': 676}"
      ],
      "metadata": {
        "id": "XXSzfpG9q7hc",
        "colab": {
          "base_uri": "https://localhost:8080/"
        },
        "outputId": "26ed7398-39ef-4d42-d801-ee62f6b418dc"
      },
      "execution_count": 4,
      "outputs": [
        {
          "output_type": "stream",
          "name": "stdout",
          "text": [
            "Quantum Circuit (H then X):\n",
            "        ┌───┐┌───┐┌───┐┌───┐┌─────────┐ ░ ┌─┐\n",
            "     q: ┤ H ├┤ X ├┤ S ├┤ T ├┤ Rz(0.5) ├─░─┤M├\n",
            "        └───┘└───┘└───┘└───┘└─────────┘ ░ └╥┘\n",
            "   c: 1/═══════════════════════════════════╬═\n",
            "                                           ║ \n",
            "meas: 1/═══════════════════════════════════╩═\n",
            "                                           0 \n",
            "\n",
            "Measurement Counts (H then X): {'0 0': 516, '1 0': 508}\n"
          ]
        }
      ]
    },
    {
      "cell_type": "markdown",
      "source": [
        "Explanation of Gate Order Effect\n",
        "The final state of a quantum system is highly dependent on the order in which quantum gates are applied because quantum gates are represented by matrix operators that are generally non-commutative.\n",
        "\n",
        "Non-Commutativity\n",
        "In mathematics, two operations A and B are non-commutative if the order in which they are applied changes the result:\n",
        "\n",
        "AB\n",
        "!\n",
        "=BA"
      ],
      "metadata": {
        "id": "3WxxM3RLVIiO"
      }
    },
    {
      "cell_type": "markdown",
      "source": [
        "2. Vary Rotation Angle"
      ],
      "metadata": {
        "id": "t0PiKji3Vd19"
      }
    },
    {
      "cell_type": "code",
      "source": [
        "from qiskit import QuantumCircuit, transpile\n",
        "from qiskit_aer import AerSimulator\n",
        "import numpy as np\n",
        "\n",
        "# Initialize simulator\n",
        "sim = AerSimulator()\n",
        "shots = 1024\n",
        "\n",
        "def run_simulation(theta):\n",
        "    qc = QuantumCircuit(1, 1)\n",
        "\n",
        "    # Original gate sequence\n",
        "    qc.x(0)\n",
        "    qc.h(0)\n",
        "    qc.s(0)\n",
        "    qc.t(0)\n",
        "    qc.rz(theta, 0)\n",
        "\n",
        "    qc.measure_all()\n",
        "\n",
        "    compiled = transpile(qc, sim)\n",
        "    result = sim.run(compiled, shots=shots).result()\n",
        "    counts = result.get_counts()\n",
        "    return counts\n",
        "\n",
        "# --- Run simulations for each angle ---\n",
        "counts_pi_over_4 = run_simulation(np.pi/4)\n",
        "counts_pi_over_2 = run_simulation(np.pi/2)\n",
        "counts_pi = run_simulation(np.pi)\n",
        "\n",
        "print(\"Measurement Counts (θ = π/4):\", counts_pi_over_4)\n",
        "print(\"Measurement Counts (θ = π/2):\", counts_pi_over_2)\n",
        "print(\"Measurement Counts (θ = π):\", counts_pi)\n",
        "\n",
        "# Example Output of Counts (actual numbers will vary slightly):\n",
        "# Measurement Counts (θ = π/4): {'0': 501, '1': 523}\n",
        "# Measurement Counts (θ = π/2): {'0': 518, '1': 506}\n",
        "# Measurement Counts (θ = π): {'0': 505, '1': 519}"
      ],
      "metadata": {
        "colab": {
          "base_uri": "https://localhost:8080/"
        },
        "id": "z5Oqbid4VCd7",
        "outputId": "34ba127d-a732-49d1-b466-0c10ad627c87"
      },
      "execution_count": 5,
      "outputs": [
        {
          "output_type": "stream",
          "name": "stdout",
          "text": [
            "Measurement Counts (θ = π/4): {'1 0': 546, '0 0': 478}\n",
            "Measurement Counts (θ = π/2): {'1 0': 495, '0 0': 529}\n",
            "Measurement Counts (θ = π): {'0 0': 517, '1 0': 507}\n"
          ]
        }
      ]
    },
    {
      "cell_type": "markdown",
      "source": [
        "COMPARISON\n",
        "![image.png](data:image/png;base64,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)"
      ],
      "metadata": {
        "id": "HWj8J8TGVtp_"
      }
    },
    {
      "cell_type": "markdown",
      "source": [
        "3. Remove a Gate"
      ],
      "metadata": {
        "id": "IQNeySoOV592"
      }
    },
    {
      "cell_type": "code",
      "source": [
        "from qiskit import QuantumCircuit, transpile\n",
        "from qiskit_aer import AerSimulator\n",
        "import numpy as np\n",
        "\n",
        "# Initialize simulator\n",
        "sim = AerSimulator()\n",
        "shots = 1024\n",
        "theta = np.pi/4  # Using an arbitrary angle, result is independent of this value\n",
        "\n",
        "# Create a single-qubit circuit with one classical bit\n",
        "qc = QuantumCircuit(1, 1)\n",
        "\n",
        "# --- Apply sequence of single-qubit gates (H gate is REMOVED) ---\n",
        "qc.x(0)        # Pauli-X (NOT gate)\n",
        "# qc.h(0)      # <--- Removed Hadamard\n",
        "qc.s(0)        # Phase gate (π/2)\n",
        "qc.t(0)        # T gate (π/4)\n",
        "qc.rz(theta, 0)# Z-axis rotation by π/4 radians\n",
        "\n",
        "# Measure final state\n",
        "qc.measure_all()\n",
        "\n",
        "# Display circuit\n",
        "print(\"Quantum Circuit (H removed):\")\n",
        "print(qc.draw())\n",
        "\n",
        "# --- Run simulation ---\n",
        "compiled = transpile(qc, sim)\n",
        "result = sim.run(compiled, shots=shots).result()\n",
        "\n",
        "# --- Display results ---\n",
        "counts = result.get_counts()\n",
        "print(\"\\nMeasurement Counts (H removed):\", counts)\n",
        "\n",
        "# Example Output of Counts (will be deterministic):\n",
        "# Measurement Counts (H removed): {'1': 1024}"
      ],
      "metadata": {
        "colab": {
          "base_uri": "https://localhost:8080/"
        },
        "id": "kknzki_XVZ0y",
        "outputId": "3cfeefd8-6daa-49dc-ce03-2d22824bc293"
      },
      "execution_count": 6,
      "outputs": [
        {
          "output_type": "stream",
          "name": "stdout",
          "text": [
            "Quantum Circuit (H removed):\n",
            "        ┌───┐┌───┐┌───┐┌─────────┐ ░ ┌─┐\n",
            "     q: ┤ X ├┤ S ├┤ T ├┤ Rz(π/4) ├─░─┤M├\n",
            "        └───┘└───┘└───┘└─────────┘ ░ └╥┘\n",
            "   c: 1/══════════════════════════════╬═\n",
            "                                      ║ \n",
            "meas: 1/══════════════════════════════╩═\n",
            "                                      0 \n",
            "\n",
            "Measurement Counts (H removed): {'1 0': 1024}\n"
          ]
        }
      ]
    },
    {
      "cell_type": "markdown",
      "source": [
        "![image.png](data:image/png;base64,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)"
      ],
      "metadata": {
        "id": "kWI-Z8OOWHOW"
      }
    },
    {
      "cell_type": "code",
      "source": [],
      "metadata": {
        "id": "uexWEfZiV_un"
      },
      "execution_count": null,
      "outputs": []
    }
  ]
}